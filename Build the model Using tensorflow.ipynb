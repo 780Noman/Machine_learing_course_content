{
 "cells": [
  {
   "cell_type": "code",
   "execution_count": 49,
   "metadata": {},
   "outputs": [],
   "source": [
    "import numpy as np\n",
    "import tensorflow as tf\n",
    "from tensorflow.keras import Sequential\n",
    "from tensorflow.keras.layers import Dense"
   ]
  },
  {
   "cell_type": "code",
   "execution_count": 50,
   "metadata": {},
   "outputs": [
    {
     "name": "stdout",
     "output_type": "stream",
     "text": [
      "The feature value: [[200.  17.]]\n",
      "The a1 value: [[6.3603646e-16 0.0000000e+00 0.0000000e+00]]\n"
     ]
    }
   ],
   "source": [
    "x=np.array([[200.0,17.0]])\n",
    "layer_1=Dense(units=3,activation='sigmoid')\n",
    "a1=layer_1(x)\n",
    "print(f\"The feature value: {x}\")\n",
    "print(f\"The a1 value: {a1}\")\n"
   ]
  },
  {
   "cell_type": "code",
   "execution_count": 51,
   "metadata": {},
   "outputs": [
    {
     "name": "stdout",
     "output_type": "stream",
     "text": [
      "<keras.src.layers.core.dense.Dense object at 0x000001EC5D7D2350>\n",
      "The value of a2:[[0.5]]\n"
     ]
    }
   ],
   "source": [
    "layer_2=Dense(units=1,activation='sigmoid')\n",
    "a2=layer_2(a1)\n",
    "print(layer_2)\n",
    "print(f\"The value of a2:{a2}\")"
   ]
  },
  {
   "cell_type": "code",
   "execution_count": 52,
   "metadata": {},
   "outputs": [
    {
     "name": "stdout",
     "output_type": "stream",
     "text": [
      "True\n"
     ]
    }
   ],
   "source": [
    "if(a2>=0.5):\n",
    "    print(\"True\")\n",
    "else:\n",
    "    print(\"false\")"
   ]
  },
  {
   "cell_type": "markdown",
   "metadata": {},
   "source": [
    "#activation vector"
   ]
  },
  {
   "cell_type": "code",
   "execution_count": 63,
   "metadata": {},
   "outputs": [
    {
     "name": "stdout",
     "output_type": "stream",
     "text": [
      "The feature value: [[200.  17.]]\n",
      "The a1 value: [[1. 1. 1.]]\n"
     ]
    },
    {
     "ename": "TypeError",
     "evalue": "Tensor() takes no arguments",
     "output_type": "error",
     "traceback": [
      "\u001b[1;31m---------------------------------------------------------------------------\u001b[0m",
      "\u001b[1;31mTypeError\u001b[0m                                 Traceback (most recent call last)",
      "\u001b[1;32md:\\5th sem doc\\Machine learning\\Build the model Using tensorflow.ipynb Cell 6\u001b[0m line \u001b[0;36m6\n\u001b[0;32m      <a href='vscode-notebook-cell:/d%3A/5th%20sem%20doc/Machine%20learning/Build%20the%20model%20Using%20tensorflow.ipynb#W5sZmlsZQ%3D%3D?line=3'>4</a>\u001b[0m \u001b[39mprint\u001b[39m(\u001b[39mf\u001b[39m\u001b[39m\"\u001b[39m\u001b[39mThe feature value: \u001b[39m\u001b[39m{\u001b[39;00mx\u001b[39m}\u001b[39;00m\u001b[39m\"\u001b[39m)\n\u001b[0;32m      <a href='vscode-notebook-cell:/d%3A/5th%20sem%20doc/Machine%20learning/Build%20the%20model%20Using%20tensorflow.ipynb#W5sZmlsZQ%3D%3D?line=4'>5</a>\u001b[0m \u001b[39mprint\u001b[39m(\u001b[39mf\u001b[39m\u001b[39m\"\u001b[39m\u001b[39mThe a1 value: \u001b[39m\u001b[39m{\u001b[39;00ma1\u001b[39m}\u001b[39;00m\u001b[39m\"\u001b[39m)\n\u001b[1;32m----> <a href='vscode-notebook-cell:/d%3A/5th%20sem%20doc/Machine%20learning/Build%20the%20model%20Using%20tensorflow.ipynb#W5sZmlsZQ%3D%3D?line=5'>6</a>\u001b[0m tf\u001b[39m.\u001b[39;49mTensor([[a1]],shape\u001b[39m=\u001b[39;49m(\u001b[39m1\u001b[39;49m,\u001b[39m3\u001b[39;49m),dtype\u001b[39m=\u001b[39;49m\u001b[39mfloat\u001b[39;49m)\n\u001b[0;32m      <a href='vscode-notebook-cell:/d%3A/5th%20sem%20doc/Machine%20learning/Build%20the%20model%20Using%20tensorflow.ipynb#W5sZmlsZQ%3D%3D?line=6'>7</a>\u001b[0m a1\u001b[39m.\u001b[39mnumpy()\n\u001b[0;32m      <a href='vscode-notebook-cell:/d%3A/5th%20sem%20doc/Machine%20learning/Build%20the%20model%20Using%20tensorflow.ipynb#W5sZmlsZQ%3D%3D?line=7'>8</a>\u001b[0m np\u001b[39m.\u001b[39marray([[a1]],dtype\u001b[39m=\u001b[39m\u001b[39mfloat\u001b[39m)\n",
      "\u001b[1;31mTypeError\u001b[0m: Tensor() takes no arguments"
     ]
    }
   ],
   "source": [
    "# x=np.array([[200.0,17.0]])\n",
    "# layer_1=Dense(units=3,activation='sigmoid')\n",
    "# a1=layer_1(x)\n",
    "# print(f\"The feature value: {x}\")\n",
    "# print(f\"The a1 value: {a1}\")\n",
    "# tf.Tensor([[0.,1.,1.]],shape=(1,3),dtype=float)\n",
    "# a1.numpy()\n",
    "# np.array([[a1]],dtype=float)"
   ]
  },
  {
   "cell_type": "code",
   "execution_count": 54,
   "metadata": {},
   "outputs": [],
   "source": [
    "#Create model for digit classification"
   ]
  },
  {
   "cell_type": "code",
   "execution_count": 55,
   "metadata": {},
   "outputs": [
    {
     "name": "stdout",
     "output_type": "stream",
     "text": [
      "The value of x feature is :[[3 5 2 2 5 1]]\n",
      "The a1 value is :[[0.81086314 0.07942123 0.13995536 0.9937395  0.9549981  0.9254163\n",
      "  0.41669923 0.16746981 0.7893285  0.8637626  0.21080874 0.03418767\n",
      "  0.5513564  0.72446865 0.9233525  0.08607817 0.04778767 0.04296824\n",
      "  0.77772194 0.925597   0.67643183 0.50684124 0.40683356 0.86469036\n",
      "  0.40435567]]\n"
     ]
    }
   ],
   "source": [
    "\n",
    "x=np.array([[3,5,2,2,5,1]])\n",
    "layer_1=Dense(units=25,activation='sigmoid')\n",
    "a1=layer_1(x)\n",
    "print(f\"The value of x feature is :{x}\")\n",
    "print(f\"The a1 value is :{a1}\")"
   ]
  },
  {
   "cell_type": "code",
   "execution_count": 56,
   "metadata": {},
   "outputs": [
    {
     "name": "stdout",
     "output_type": "stream",
     "text": [
      "The a2 value is :[[0.4511178  0.61174965 0.4349527  0.36379707 0.66071945 0.47043532\n",
      "  0.5374288  0.63584876 0.5240312  0.35775852 0.33776483 0.52196443\n",
      "  0.40643725 0.36016506 0.65028733]]\n"
     ]
    }
   ],
   "source": [
    "layer_2=Dense(units=15,activation='sigmoid')\n",
    "a2=layer_2(a1)\n",
    "print(f\"The a2 value is :{a2}\")"
   ]
  },
  {
   "cell_type": "code",
   "execution_count": 57,
   "metadata": {},
   "outputs": [
    {
     "name": "stdout",
     "output_type": "stream",
     "text": [
      "The a3 value is :[[0.5831049]]\n"
     ]
    }
   ],
   "source": [
    "layer_3=Dense(units=1,activation='sigmoid')\n",
    "a3=layer_3(a2)\n",
    "print(f\"The a3 value is :{a3}\")"
   ]
  },
  {
   "cell_type": "code",
   "execution_count": 58,
   "metadata": {},
   "outputs": [
    {
     "name": "stdout",
     "output_type": "stream",
     "text": [
      "True\n"
     ]
    }
   ],
   "source": [
    "if(a3>=0.5):\n",
    "    print(\"True\")\n",
    "else:\n",
    "    print(\"False\")"
   ]
  },
  {
   "cell_type": "markdown",
   "metadata": {},
   "source": [
    "#Build a neural network architecture"
   ]
  },
  {
   "cell_type": "code",
   "execution_count": 59,
   "metadata": {},
   "outputs": [],
   "source": [
    "layer_1=Dense(units=3,activation='sigmoid')\n",
    "layer_2=Dense(units=1,activation='sigmoid')\n",
    "model=Sequential([layer_1,layer_2])\n",
    "x=np.array([\n",
    "            [200.0,17.0],\n",
    "            [120.0,5.0],\n",
    "            [425.0,20.0],\n",
    "            [212.0,18.0]])\n",
    "y=np.array([1,0,0,1])\n",
    "# model.complie()\n",
    "# model.fit(x,y)\n",
    "# model.predict(x_new)"
   ]
  },
  {
   "cell_type": "code",
   "execution_count": null,
   "metadata": {},
   "outputs": [],
   "source": [
    "layer_1=Dense(units=25,activation=\"sigmoid\")\n",
    "layer_2=Dense(units=15, activation=\"sigmoid\")\n",
    "layer_3=Dense(units=1,activation=\"sigmoid\")\n",
    "model=Sequential([layer_1,layer_2,layer_3])\n",
    "# model.compile()\n",
    "x=np.array(\n",
    "    [3,4,5,6,3,2,4,5,3],\n",
    "    [11,7,6,3,12,2,4,6,3],\n",
    "    )\n",
    "y=np.array([1,0])\n",
    "# model.fit(x,y)\n",
    "# model.predict(x_new)\n"
   ]
  },
  {
   "cell_type": "code",
   "execution_count": 70,
   "metadata": {},
   "outputs": [],
   "source": [
    "#Alternative method \n",
    "model=Sequential([Dense(units=25,activation=\"sigmoid\"),\n",
    " Dense(units=15, activation=\"sigmoid\"),\n",
    " Dense(units=1,activation=\"sigmoid\")]\n",
    ")\n",
    "# model.compile()\n",
    "x=np.array([\n",
    "    [3,4,5,6,3,2,4,5,3],\n",
    "    [11,7,6,3,12,2,4,6,3]]\n",
    "    )\n",
    "y=np.array([1,0])\n",
    "# model.fit(x,y)\n",
    "# model.predict(x_new)\n",
    "\n"
   ]
  },
  {
   "cell_type": "markdown",
   "metadata": {},
   "source": [
    "#Farword Prop in NumPy(Coffee roasting model)"
   ]
  },
  {
   "cell_type": "code",
   "execution_count": 72,
   "metadata": {},
   "outputs": [
    {
     "ename": "ValueError",
     "evalue": "setting an array element with a sequence. The requested array has an inhomogeneous shape after 1 dimensions. The detected shape was (3,) + inhomogeneous part.",
     "output_type": "error",
     "traceback": [
      "\u001b[1;31m---------------------------------------------------------------------------\u001b[0m",
      "\u001b[1;31mValueError\u001b[0m                                Traceback (most recent call last)",
      "\u001b[1;32md:\\5th sem doc\\Machine learning\\Build the model Using tensorflow.ipynb Cell 17\u001b[0m line \u001b[0;36m2\n\u001b[0;32m     <a href='vscode-notebook-cell:/d%3A/5th%20sem%20doc/Machine%20learning/Build%20the%20model%20Using%20tensorflow.ipynb#X20sZmlsZQ%3D%3D?line=20'>21</a>\u001b[0m a1_3 \u001b[39m=\u001b[39m sigmoid(z1_3)\n\u001b[0;32m     <a href='vscode-notebook-cell:/d%3A/5th%20sem%20doc/Machine%20learning/Build%20the%20model%20Using%20tensorflow.ipynb#X20sZmlsZQ%3D%3D?line=22'>23</a>\u001b[0m \u001b[39m#for next layer\u001b[39;00m\n\u001b[1;32m---> <a href='vscode-notebook-cell:/d%3A/5th%20sem%20doc/Machine%20learning/Build%20the%20model%20Using%20tensorflow.ipynb#X20sZmlsZQ%3D%3D?line=23'>24</a>\u001b[0m a1\u001b[39m=\u001b[39mnp\u001b[39m.\u001b[39;49marray([a1_1,a1_2,a1_3])\n\u001b[0;32m     <a href='vscode-notebook-cell:/d%3A/5th%20sem%20doc/Machine%20learning/Build%20the%20model%20Using%20tensorflow.ipynb#X20sZmlsZQ%3D%3D?line=24'>25</a>\u001b[0m \u001b[39mprint\u001b[39m(\u001b[39mf\u001b[39m\u001b[39m\"\u001b[39m\u001b[39mThe output of hidden layer 1 is :\u001b[39m\u001b[39m{\u001b[39;00ma1\u001b[39m}\u001b[39;00m\u001b[39m\"\u001b[39m)    \n",
      "\u001b[1;31mValueError\u001b[0m: setting an array element with a sequence. The requested array has an inhomogeneous shape after 1 dimensions. The detected shape was (3,) + inhomogeneous part."
     ]
    }
   ],
   "source": [
    "x = np.array([200, 17])\n",
    "w1_1 = np.array([1, 2])\n",
    "w1_2 = np.array([-3, 4])\n",
    "w1_3 = np.array([5, -6])\n",
    "#bias\n",
    "b1_1 = np.array([-1])\n",
    "b1_2 = np.array([1])\n",
    "b1_3 = np.array([2])\n",
    "\n",
    "def sigmoid(val):\n",
    "    if val>=25:\n",
    "        return val\n",
    "    else:\n",
    "        return 0\n",
    "\n",
    "z1_1 = np.dot(w1_1,x)+ b1_1\n",
    "a1_1 = sigmoid(z1_1)\n",
    "z1_2 = np.dot(w1_2,x)+ b1_2\n",
    "a1_2 = sigmoid(z1_2)\n",
    "z1_3 = np.dot(w1_3,x)+ b1_3\n",
    "a1_3 = sigmoid(z1_3)\n",
    "\n",
    "#for next layer\n",
    "a1=np.array([a1_1,a1_2,a1_3])\n",
    "print(f\"The output of hidden layer 1 is :{a1}\")    \n"
   ]
  },
  {
   "cell_type": "markdown",
   "metadata": {},
   "source": [
    "#Farword Prop in NumPy"
   ]
  },
  {
   "cell_type": "code",
   "execution_count": 79,
   "metadata": {},
   "outputs": [
    {
     "name": "stdout",
     "output_type": "stream",
     "text": [
      "3\n"
     ]
    },
    {
     "ename": "NameError",
     "evalue": "name 'g' is not defined",
     "output_type": "error",
     "traceback": [
      "\u001b[1;31m---------------------------------------------------------------------------\u001b[0m",
      "\u001b[1;31mNameError\u001b[0m                                 Traceback (most recent call last)",
      "\u001b[1;32md:\\5th sem doc\\Machine learning\\Build the model Using tensorflow.ipynb Cell 19\u001b[0m line \u001b[0;36m2\n\u001b[0;32m     <a href='vscode-notebook-cell:/d%3A/5th%20sem%20doc/Machine%20learning/Build%20the%20model%20Using%20tensorflow.ipynb#X22sZmlsZQ%3D%3D?line=18'>19</a>\u001b[0m     f_x \u001b[39m=\u001b[39m a1\n\u001b[0;32m     <a href='vscode-notebook-cell:/d%3A/5th%20sem%20doc/Machine%20learning/Build%20the%20model%20Using%20tensorflow.ipynb#X22sZmlsZQ%3D%3D?line=19'>20</a>\u001b[0m     \u001b[39mreturn\u001b[39;00m f_x\n\u001b[1;32m---> <a href='vscode-notebook-cell:/d%3A/5th%20sem%20doc/Machine%20learning/Build%20the%20model%20Using%20tensorflow.ipynb#X22sZmlsZQ%3D%3D?line=20'>21</a>\u001b[0m output\u001b[39m=\u001b[39msequential(\u001b[39m2\u001b[39;49m)\n",
      "\u001b[1;32md:\\5th sem doc\\Machine learning\\Build the model Using tensorflow.ipynb Cell 19\u001b[0m line \u001b[0;36m1\n\u001b[0;32m     <a href='vscode-notebook-cell:/d%3A/5th%20sem%20doc/Machine%20learning/Build%20the%20model%20Using%20tensorflow.ipynb#X22sZmlsZQ%3D%3D?line=13'>14</a>\u001b[0m \u001b[39mdef\u001b[39;00m \u001b[39msequential\u001b[39m(x):\n\u001b[1;32m---> <a href='vscode-notebook-cell:/d%3A/5th%20sem%20doc/Machine%20learning/Build%20the%20model%20Using%20tensorflow.ipynb#X22sZmlsZQ%3D%3D?line=14'>15</a>\u001b[0m     a1 \u001b[39m=\u001b[39m dense(a_in,W,b,g)\n\u001b[0;32m     <a href='vscode-notebook-cell:/d%3A/5th%20sem%20doc/Machine%20learning/Build%20the%20model%20Using%20tensorflow.ipynb#X22sZmlsZQ%3D%3D?line=15'>16</a>\u001b[0m     \u001b[39m# a2 = dense(a1,W2,b2,g)\u001b[39;00m\n\u001b[0;32m     <a href='vscode-notebook-cell:/d%3A/5th%20sem%20doc/Machine%20learning/Build%20the%20model%20Using%20tensorflow.ipynb#X22sZmlsZQ%3D%3D?line=16'>17</a>\u001b[0m     \u001b[39m# a3 = dense(a2,W3,b3,g)\u001b[39;00m\n\u001b[0;32m     <a href='vscode-notebook-cell:/d%3A/5th%20sem%20doc/Machine%20learning/Build%20the%20model%20Using%20tensorflow.ipynb#X22sZmlsZQ%3D%3D?line=17'>18</a>\u001b[0m     \u001b[39m# a4 = dense(a3,W4,b4,g)\u001b[39;00m\n\u001b[0;32m     <a href='vscode-notebook-cell:/d%3A/5th%20sem%20doc/Machine%20learning/Build%20the%20model%20Using%20tensorflow.ipynb#X22sZmlsZQ%3D%3D?line=18'>19</a>\u001b[0m     f_x \u001b[39m=\u001b[39m a1\n",
      "\u001b[1;31mNameError\u001b[0m: name 'g' is not defined"
     ]
    }
   ],
   "source": [
    "W=np.array([[1, -3, 5],\n",
    "            [2, 4, -6]])\n",
    "b = np.array([-1, 1, 2])\n",
    "a_in = np.array([-2, 4])\n",
    "print(W.shape[1])\n",
    "def dense(a_in,W,b,g):\n",
    "    units=W.shape[1] #it return the num of column\n",
    "    a_out=np.zeros(units)\n",
    "    for j in range(units):\n",
    "        w=W[:,j]\n",
    "        z=np.dot(w,a_in)+b[j]\n",
    "        a_out[j]=g(z)\n",
    "    return a_out\n",
    "def sequential(x):\n",
    "    a1 = dense(a_in,W,b,g)\n",
    "    # a2 = dense(a1,W2,b2,g)\n",
    "    # a3 = dense(a2,W3,b3,g)\n",
    "    # a4 = dense(a3,W4,b4,g)\n",
    "    f_x = a1\n",
    "    return f_x\n",
    "output=sequential(2)\n",
    "\n"
   ]
  },
  {
   "cell_type": "code",
   "execution_count": null,
   "metadata": {},
   "outputs": [
    {
     "name": "stdout",
     "output_type": "stream",
     "text": [
      "[[ 165 -531  900]]\n"
     ]
    }
   ],
   "source": [
    "X = np.array([[200, 17]])\n",
    "W = np.array([[1, -3, 5],\n",
    "[-2, 4, -6]])\n",
    "B = np.array([[-1, 1, 2]])\n",
    "def dense(A_in,W,B):\n",
    "    Z = np.matmul(A_in,W) + B\n",
    "    A_out = g(Z)\n",
    "    return A_out\n",
    "out=dense(X,W,B)\n",
    "print(out)"
   ]
  },
  {
   "cell_type": "code",
   "execution_count": 80,
   "metadata": {},
   "outputs": [],
   "source": [
    "AT = np.array([[200, 17]])\n",
    "W = np.array([[1, -3, 5],\n",
    "        [-2, 4, -6]])\n",
    "b = np.array([[-1, 1, 2]])\n",
    "def dense(AT,W,b,g):\n",
    "    z = np.matmul(AT,W) + b\n",
    "    # z=AT @ W\n",
    "    a_out = g(z)\n",
    "    return a_out\n",
    "\n",
    "       "
   ]
  },
  {
   "cell_type": "code",
   "execution_count": null,
   "metadata": {},
   "outputs": [],
   "source": []
  },
  {
   "cell_type": "code",
   "execution_count": null,
   "metadata": {},
   "outputs": [],
   "source": []
  }
 ],
 "metadata": {
  "kernelspec": {
   "display_name": "Python 3",
   "language": "python",
   "name": "python3"
  },
  "language_info": {
   "codemirror_mode": {
    "name": "ipython",
    "version": 3
   },
   "file_extension": ".py",
   "mimetype": "text/x-python",
   "name": "python",
   "nbconvert_exporter": "python",
   "pygments_lexer": "ipython3",
   "version": "3.10.5"
  }
 },
 "nbformat": 4,
 "nbformat_minor": 2
}
